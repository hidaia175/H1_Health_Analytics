{
 "cells": [
  {
   "cell_type": "code",
   "execution_count": 8,
   "id": "722cb8d1",
   "metadata": {},
   "outputs": [
    {
     "name": "stdout",
     "output_type": "stream",
     "text": [
      "All libraries imported successfully!\n"
     ]
    }
   ],
   "source": [
    "import pandas as pd\n",
    "import numpy as np\n",
    "import matplotlib.pyplot as plt\n",
    "import seaborn as sns\n",
    "import plotly.express as px\n",
    "\n",
    "print(\"All libraries imported successfully!\")\n"
   ]
  },
  {
   "cell_type": "code",
   "execution_count": 9,
   "id": "91e1f3d6",
   "metadata": {},
   "outputs": [
    {
     "name": "stdout",
     "output_type": "stream",
     "text": [
      "Data loaded successfully!\n",
      "(1338, 7)\n"
     ]
    },
    {
     "data": {
      "text/html": [
       "<div>\n",
       "<style scoped>\n",
       "    .dataframe tbody tr th:only-of-type {\n",
       "        vertical-align: middle;\n",
       "    }\n",
       "\n",
       "    .dataframe tbody tr th {\n",
       "        vertical-align: top;\n",
       "    }\n",
       "\n",
       "    .dataframe thead th {\n",
       "        text-align: right;\n",
       "    }\n",
       "</style>\n",
       "<table border=\"1\" class=\"dataframe\">\n",
       "  <thead>\n",
       "    <tr style=\"text-align: right;\">\n",
       "      <th></th>\n",
       "      <th>age</th>\n",
       "      <th>sex</th>\n",
       "      <th>bmi</th>\n",
       "      <th>children</th>\n",
       "      <th>smoker</th>\n",
       "      <th>region</th>\n",
       "      <th>charges</th>\n",
       "    </tr>\n",
       "  </thead>\n",
       "  <tbody>\n",
       "    <tr>\n",
       "      <th>0</th>\n",
       "      <td>19</td>\n",
       "      <td>female</td>\n",
       "      <td>27.900</td>\n",
       "      <td>0</td>\n",
       "      <td>yes</td>\n",
       "      <td>southwest</td>\n",
       "      <td>16884.92400</td>\n",
       "    </tr>\n",
       "    <tr>\n",
       "      <th>1</th>\n",
       "      <td>18</td>\n",
       "      <td>male</td>\n",
       "      <td>33.770</td>\n",
       "      <td>1</td>\n",
       "      <td>no</td>\n",
       "      <td>southeast</td>\n",
       "      <td>1725.55230</td>\n",
       "    </tr>\n",
       "    <tr>\n",
       "      <th>2</th>\n",
       "      <td>28</td>\n",
       "      <td>male</td>\n",
       "      <td>33.000</td>\n",
       "      <td>3</td>\n",
       "      <td>no</td>\n",
       "      <td>southeast</td>\n",
       "      <td>4449.46200</td>\n",
       "    </tr>\n",
       "    <tr>\n",
       "      <th>3</th>\n",
       "      <td>33</td>\n",
       "      <td>male</td>\n",
       "      <td>22.705</td>\n",
       "      <td>0</td>\n",
       "      <td>no</td>\n",
       "      <td>northwest</td>\n",
       "      <td>21984.47061</td>\n",
       "    </tr>\n",
       "    <tr>\n",
       "      <th>4</th>\n",
       "      <td>32</td>\n",
       "      <td>male</td>\n",
       "      <td>28.880</td>\n",
       "      <td>0</td>\n",
       "      <td>no</td>\n",
       "      <td>northwest</td>\n",
       "      <td>3866.85520</td>\n",
       "    </tr>\n",
       "  </tbody>\n",
       "</table>\n",
       "</div>"
      ],
      "text/plain": [
       "   age     sex     bmi  children smoker     region      charges\n",
       "0   19  female  27.900         0    yes  southwest  16884.92400\n",
       "1   18    male  33.770         1     no  southeast   1725.55230\n",
       "2   28    male  33.000         3     no  southeast   4449.46200\n",
       "3   33    male  22.705         0     no  northwest  21984.47061\n",
       "4   32    male  28.880         0     no  northwest   3866.85520"
      ]
     },
     "execution_count": 9,
     "metadata": {},
     "output_type": "execute_result"
    }
   ],
   "source": [
    "df = pd.read_csv(r\"C:\\Users\\ABDUL\\OneDrive\\Documents\\healthcare-insurance-analysis\\data\\insurance_cleaned.csv\")\n",
    "print(\"Data loaded successfully!\")\n",
    "print(df.shape)\n",
    "df.head()"
   ]
  },
  {
   "cell_type": "code",
   "execution_count": 10,
   "id": "c4b23304",
   "metadata": {},
   "outputs": [
    {
     "name": "stdout",
     "output_type": "stream",
     "text": [
      "Missing values per column:\n",
      "age         0\n",
      "sex         0\n",
      "bmi         0\n",
      "children    0\n",
      "smoker      0\n",
      "region      0\n",
      "charges     0\n",
      "dtype: int64\n",
      "\n",
      "Duplicate rows: 1\n",
      "\n",
      "Data types:\n",
      "age           int64\n",
      "sex          object\n",
      "bmi         float64\n",
      "children      int64\n",
      "smoker       object\n",
      "region       object\n",
      "charges     float64\n",
      "dtype: object\n",
      "\n",
      "Unique values per categorical column:\n",
      "sex: ['female' 'male']\n",
      "smoker: ['yes' 'no']\n",
      "region: ['southwest' 'southeast' 'northwest' 'northeast']\n"
     ]
    }
   ],
   "source": [
    "print(\"Missing values per column:\")\n",
    "print(df.isnull().sum())\n",
    "\n",
    "print(\"\\nDuplicate rows:\", df.duplicated().sum())\n",
    "\n",
    "print(\"\\nData types:\")\n",
    "print(df.dtypes)\n",
    "\n",
    "print(\"\\nUnique values per categorical column:\")\n",
    "for col in ['sex', 'smoker', 'region']:\n",
    "    print(f\"{col}: {df[col].unique()}\")\n"
   ]
  },
  {
   "cell_type": "code",
   "execution_count": 11,
   "id": "265bb3cc",
   "metadata": {},
   "outputs": [
    {
     "name": "stdout",
     "output_type": "stream",
     "text": [
      "Data ready for analysis!\n",
      "\n",
      "ETL Pipeline Test Results:\n",
      "Missing values per column:\n",
      "age         0\n",
      "sex         0\n",
      "bmi         0\n",
      "children    0\n",
      "smoker      0\n",
      "region      0\n",
      "charges     0\n",
      "dtype: int64\n",
      "\n",
      "Duplicate rows: 0\n",
      "\n",
      "Data types:\n",
      "age           int64\n",
      "sex          object\n",
      "bmi         float64\n",
      "children      int64\n",
      "smoker       object\n",
      "region       object\n",
      "charges     float64\n",
      "dtype: object\n"
     ]
    }
   ],
   "source": [
    "# Extract\n",
    "df = pd.read_csv(\"data/insurance_cleaned.csv\")\n",
    "\n",
    "# Transform\n",
    "df.columns = df.columns.str.lower()\n",
    "df = df.drop_duplicates()\n",
    "\n",
    "# Load\n",
    "print(\"Data ready for analysis!\")\n",
    "\n",
    "# Test / Validate\n",
    "print(\"\\nETL Pipeline Test Results:\")\n",
    "print(\"Missing values per column:\")\n",
    "print(df.isnull().sum())\n",
    "print(\"\\nDuplicate rows:\", df.duplicated().sum())\n",
    "print(\"\\nData types:\")\n",
    "print(df.dtypes)\n"
   ]
  },
  {
   "cell_type": "code",
   "execution_count": 12,
   "id": "d8cc1a03",
   "metadata": {},
   "outputs": [
    {
     "name": "stdout",
     "output_type": "stream",
     "text": [
      "(1338, 7)\n"
     ]
    },
    {
     "data": {
      "text/html": [
       "<div>\n",
       "<style scoped>\n",
       "    .dataframe tbody tr th:only-of-type {\n",
       "        vertical-align: middle;\n",
       "    }\n",
       "\n",
       "    .dataframe tbody tr th {\n",
       "        vertical-align: top;\n",
       "    }\n",
       "\n",
       "    .dataframe thead th {\n",
       "        text-align: right;\n",
       "    }\n",
       "</style>\n",
       "<table border=\"1\" class=\"dataframe\">\n",
       "  <thead>\n",
       "    <tr style=\"text-align: right;\">\n",
       "      <th></th>\n",
       "      <th>age</th>\n",
       "      <th>sex</th>\n",
       "      <th>bmi</th>\n",
       "      <th>children</th>\n",
       "      <th>smoker</th>\n",
       "      <th>region</th>\n",
       "      <th>charges</th>\n",
       "    </tr>\n",
       "  </thead>\n",
       "  <tbody>\n",
       "    <tr>\n",
       "      <th>0</th>\n",
       "      <td>19</td>\n",
       "      <td>female</td>\n",
       "      <td>27.900</td>\n",
       "      <td>0</td>\n",
       "      <td>yes</td>\n",
       "      <td>southwest</td>\n",
       "      <td>16884.92400</td>\n",
       "    </tr>\n",
       "    <tr>\n",
       "      <th>1</th>\n",
       "      <td>18</td>\n",
       "      <td>male</td>\n",
       "      <td>33.770</td>\n",
       "      <td>1</td>\n",
       "      <td>no</td>\n",
       "      <td>southeast</td>\n",
       "      <td>1725.55230</td>\n",
       "    </tr>\n",
       "    <tr>\n",
       "      <th>2</th>\n",
       "      <td>28</td>\n",
       "      <td>male</td>\n",
       "      <td>33.000</td>\n",
       "      <td>3</td>\n",
       "      <td>no</td>\n",
       "      <td>southeast</td>\n",
       "      <td>4449.46200</td>\n",
       "    </tr>\n",
       "    <tr>\n",
       "      <th>3</th>\n",
       "      <td>33</td>\n",
       "      <td>male</td>\n",
       "      <td>22.705</td>\n",
       "      <td>0</td>\n",
       "      <td>no</td>\n",
       "      <td>northwest</td>\n",
       "      <td>21984.47061</td>\n",
       "    </tr>\n",
       "    <tr>\n",
       "      <th>4</th>\n",
       "      <td>32</td>\n",
       "      <td>male</td>\n",
       "      <td>28.880</td>\n",
       "      <td>0</td>\n",
       "      <td>no</td>\n",
       "      <td>northwest</td>\n",
       "      <td>3866.85520</td>\n",
       "    </tr>\n",
       "  </tbody>\n",
       "</table>\n",
       "</div>"
      ],
      "text/plain": [
       "   age     sex     bmi  children smoker     region      charges\n",
       "0   19  female  27.900         0    yes  southwest  16884.92400\n",
       "1   18    male  33.770         1     no  southeast   1725.55230\n",
       "2   28    male  33.000         3     no  southeast   4449.46200\n",
       "3   33    male  22.705         0     no  northwest  21984.47061\n",
       "4   32    male  28.880         0     no  northwest   3866.85520"
      ]
     },
     "execution_count": 12,
     "metadata": {},
     "output_type": "execute_result"
    }
   ],
   "source": [
    "df = pd.read_csv(r\"C:\\Users\\ABDUL\\OneDrive\\Documents\\healthcare-insurance-analysis\\data\\insurance_cleaned.csv\")\n",
    "print(df.shape)\n",
    "df.head()"
   ]
  },
  {
   "cell_type": "code",
   "execution_count": 13,
   "id": "9d0e06fd",
   "metadata": {},
   "outputs": [
    {
     "data": {
      "image/png": "[encoded data removed]",
      "text/plain": [
       "<Figure size 800x600 with 2 Axes>"
      ]
     },
     "metadata": {},
     "output_type": "display_data"
    }
   ],
   "source": [
    "correlation = df.corr(numeric_only=True)\n",
    "\n",
    "plt.figure(figsize=(8, 6))\n",
    "sns.heatmap(correlation, annot=True, cmap=\"Blues\", fmt=\".2f\")\n",
    "plt.title(\"Correlation Heatmap - Insurance Data\")\n",
    "plt.show()"
   ]
  },
  {
   "cell_type": "code",
   "execution_count": 14,
   "id": "8b06026f",
   "metadata": {},
   "outputs": [
    {
     "data": {
      "image/png": "[encoded data removed]",
      "text/plain": [
       "<Figure size 823.875x750 with 12 Axes>"
      ]
     },
     "metadata": {},
     "output_type": "display_data"
    }
   ],
   "source": [
    "# Pairplot shows relationships between multiple numeric variables\n",
    "sns.pairplot(df, vars=[\"age\", \"bmi\", \"charges\"], hue=\"smoker\")\n",
    "plt.suptitle(\"Pair Plot - Age, BMI, and Charges by Smoking Status\", y=1.02)\n",
    "plt.show()"
   ]
  },
  {
   "cell_type": "code",
   "execution_count": 16,
   "id": "12511346",
   "metadata": {},
   "outputs": [
    {
     "data": {
      "application/vnd.plotly.v1+json": {
       "config": {
        "plotlyServerURL": "https://plot.ly"
       },
       "data": [
        {
         "customdata": [
          [
           19,
           "southwest"
          ],
          [
           62,
           "southeast"
          ],
          [
           27,
           "southeast"
          ],
          [
           30,
           "southwest"
          ],
          [
           34,
           "northeast"
          ],
          [
           31,
           "southwest"
          ],
          [
           22,
           "southwest"
          ],
          [
           28,
           "southwest"
          ],
          [
           35,
           "northeast"
          ],
          [
           60,
           "southwest"
          ],
          [
           36,
           "southeast"
          ],
          [
           48,
           "southwest"
          ],
          [
           36,
           "southeast"
          ],
          [
           58,
           "northwest"
          ],
          [
           18,
           "southeast"
          ],
          [
           53,
           "southeast"
          ],
          [
           20,
           "northwest"
          ],
          [
           28,
           "southeast"
          ],
          [
           27,
           "southeast"
          ],
          [
           22,
           "southeast"
          ],
          [
           37,
           "southwest"
          ],
          [
           45,
           "northwest"
          ],
          [
           57,
           "northwest"
          ],
          [
           59,
           "northeast"
          ],
          [
           64,
           "southwest"
          ],
          [
           56,
           "northeast"
          ],
          [
           38,
           "southwest"
          ],
          [
           61,
           "southeast"
          ],
          [
           20,
           "northwest"
          ],
          [
           63,
           "southeast"
          ],
          [
           29,
           "southeast"
          ],
          [
           44,
           "northeast"
          ],
          [
           19,
           "southwest"
          ],
          [
           32,
           "northwest"
          ],
          [
           34,
           "southeast"
          ],
          [
           30,
           "northwest"
          ],
          [
           46,
           "northwest"
          ],
          [
           42,
           "northeast"
          ],
          [
           48,
           "southeast"
          ],
          [
           18,
           "northeast"
          ],
          [
           30,
           "southeast"
          ],
          [
           42,
           "northwest"
          ],
          [
           18,
           "southeast"
          ],
          [
           63,
           "southwest"
          ],
          [
           36,
           "northeast"
          ],
          [
           27,
           "southeast"
          ],
          [
           35,
           "northeast"
          ],
          [
           19,
           "southwest"
          ],
          [
           42,
           "southeast"
          ],
          [
           40,
           "southeast"
          ],
          [
           19,
           "northwest"
          ],
          [
           23,
           "northeast"
          ],
          [
           63,
           "northeast"
          ],
          [
           18,
           "northeast"
          ],
          [
           63,
           "southwest"
          ],
          [
           54,
           "southeast"
          ],
          [
           50,
           "northeast"
          ],
          [
           56,
           "northwest"
          ],
          [
           19,
           "northwest"
          ],
          [
           20,
           "southeast"
          ],
          [
           52,
           "northeast"
          ],
          [
           19,
           "northwest"
          ],
          [
           46,
           "southeast"
          ],
          [
           40,
           "southeast"
          ],
          [
           50,
           "southwest"
          ],
          [
           40,
           "northeast"
          ],
          [
           54,
           "northeast"
          ],
          [
           59,
           "northeast"
          ],
          [
           25,
           "southeast"
          ],
          [
           19,
           "southwest"
          ],
          [
           47,
           "southeast"
          ],
          [
           31,
           "northwest"
          ],
          [
           53,
           "northeast"
          ],
          [
           43,
           "southeast"
          ],
          [
           27,
           "southwest"
          ],
          [
           34,
           "southwest"
          ],
          [
           45,
           "northwest"
          ],
          [
           64,
           "southwest"
          ],
          [
           61,
           "northeast"
          ],
          [
           52,
           "northwest"
          ],
          [
           50,
           "northeast"
          ],
          [
           19,
           "southwest"
          ],
          [
           26,
           "southwest"
          ],
          [
           23,
           "northwest"
          ],
          [
           39,
           "northeast"
          ],
          [
           24,
           "southeast"
          ],
          [
           27,
           "northeast"
          ],
          [
           55,
           "northeast"
          ],
          [
           44,
           "northeast"
          ],
          [
           26,
           "northeast"
          ],
          [
           36,
           "southwest"
          ],
          [
           63,
           "northwest"
          ],
          [
           64,
           "southeast"
          ],
          [
           61,
           "southeast"
          ],
          [
           40,
           "northeast"
          ],
          [
           33,
           "southwest"
          ],
          [
           56,
           "northwest"
          ],
          [
           42,
           "southwest"
          ],
          [
           30,
           "southeast"
          ],
          [
           54,
           "southwest"
          ],
          [
           61,
           "northwest"
          ],
          [
           24,
           "northeast"
          ],
          [
           44,
           "southeast"
          ],
          [
           21,
           "southwest"
          ],
          [
           29,
           "southwest"
          ],
          [
           51,
           "southeast"
          ],
          [
           19,
           "southeast"
          ],
          [
           39,
           "southwest"
          ],
          [
           42,
           "southeast"
          ],
          [
           57,
           "southeast"
          ],
          [
           54,
           "southeast"
          ],
          [
           49,
           "northwest"
          ],
          [
           43,
           "southeast"
          ],
          [
           35,
           "northwest"
          ],
          [
           48,
           "northwest"
          ],
          [
           31,
           "northeast"
          ],
          [
           34,
           "northwest"
          ],
          [
           21,
           "northeast"
          ],
          [
           19,
           "northwest"
          ],
          [
           59,
           "northwest"
          ],
          [
           30,
           "southwest"
          ],
          [
           47,
           "southeast"
          ],
          [
           49,
           "southwest"
          ],
          [
           19,
           "southeast"
          ],
          [
           37,
           "southwest"
          ],
          [
           18,
           "northeast"
          ],
          [
           44,
           "northwest"
          ],
          [
           39,
           "northeast"
          ],
          [
           42,
           "northwest"
          ],
          [
           52,
           "southeast"
          ],
          [
           64,
           "southeast"
          ],
          [
           43,
           "southeast"
          ],
          [
           40,
           "northwest"
          ],
          [
           62,
           "northeast"
          ],
          [
           44,
           "southeast"
          ],
          [
           60,
           "northwest"
          ],
          [
           39,
           "southwest"
          ],
          [
           27,
           "southeast"
          ],
          [
           41,
           "southeast"
          ],
          [
           51,
           "southeast"
          ],
          [
           30,
           "southeast"
          ],
          [
           29,
           "northeast"
          ],
          [
           35,
           "southeast"
          ],
          [
           37,
           "southeast"
          ],
          [
           23,
           "northeast"
          ],
          [
           29,
           "southwest"
          ],
          [
           27,
           "southeast"
          ],
          [
           53,
           "northeast"
          ],
          [
           37,
           "southeast"
          ],
          [
           47,
           "southeast"
          ],
          [
           18,
           "southeast"
          ],
          [
           33,
           "southwest"
          ],
          [
           19,
           "northwest"
          ],
          [
           30,
           "southwest"
          ],
          [
           50,
           "southwest"
          ],
          [
           53,
           "southeast"
          ],
          [
           27,
           "northwest"
          ],
          [
           33,
           "northeast"
          ],
          [
           18,
           "southeast"
          ],
          [
           47,
           "northeast"
          ],
          [
           33,
           "northwest"
          ],
          [
           56,
           "southeast"
          ],
          [
           36,
           "northeast"
          ],
          [
           41,
           "northeast"
          ],
          [
           23,
           "southeast"
          ],
          [
           57,
           "southeast"
          ],
          [
           60,
           "southeast"
          ],
          [
           37,
           "northeast"
          ],
          [
           46,
           "northeast"
          ],
          [
           49,
           "northeast"
          ],
          [
           48,
           "southeast"
          ],
          [
           25,
           "northwest"
          ],
          [
           37,
           "southwest"
          ],
          [
           51,
           "northeast"
          ],
          [
           32,
           "southeast"
          ],
          [
           57,
           "northeast"
          ],
          [
           64,
           "northwest"
          ],
          [
           47,
           "southeast"
          ],
          [
           43,
           "northeast"
          ],
          [
           60,
           "southeast"
          ],
          [
           32,
           "southwest"
          ],
          [
           18,
           "northeast"
          ],
          [
           43,
           "northwest"
          ],
          [
           45,
           "northeast"
          ],
          [
           37,
           "northeast"
          ],
          [
           25,
           "southwest"
          ],
          [
           51,
           "southeast"
          ],
          [
           44,
           "southwest"
          ],
          [
           34,
           "northwest"
          ],
          [
           54,
           "southeast"
          ],
          [
           43,
           "northeast"
          ],
          [
           51,
           "northwest"
          ],
          [
           29,
           "northeast"
          ],
          [
           31,
           "southwest"
          ],
          [
           24,
           "northeast"
          ],
          [
           27,
           "northwest"
          ],
          [
           30,
           "northwest"
          ],
          [
           24,
           "southwest"
          ],
          [
           47,
           "northwest"
          ],
          [
           43,
           "southeast"
          ],
          [
           22,
           "southeast"
          ],
          [
           47,
           "southeast"
          ],
          [
           19,
           "northwest"
          ],
          [
           46,
           "northwest"
          ],
          [
           55,
           "southeast"
          ],
          [
           18,
           "northeast"
          ],
          [
           22,
           "southeast"
          ],
          [
           45,
           "northwest"
          ],
          [
           35,
           "northwest"
          ],
          [
           20,
           "northeast"
          ],
          [
           43,
           "northwest"
          ],
          [
           22,
           "southeast"
          ],
          [
           49,
           "southwest"
          ],
          [
           47,
           "southwest"
          ],
          [
           59,
           "southeast"
          ],
          [
           37,
           "southeast"
          ],
          [
           28,
           "southeast"
          ],
          [
           39,
           "southwest"
          ],
          [
           47,
           "southeast"
          ],
          [
           22,
           "northwest"
          ],
          [
           51,
           "northeast"
          ],
          [
           33,
           "northeast"
          ],
          [
           38,
           "southeast"
          ],
          [
           48,
           "southeast"
          ],
          [
           25,
           "southeast"
          ],
          [
           33,
           "southeast"
          ],
          [
           23,
           "southwest"
          ],
          [
           53,
           "northwest"
          ],
          [
           23,
           "northeast"
          ],
          [
           19,
           "northwest"
          ],
          [
           60,
           "southwest"
          ],
          [
           43,
           "southeast"
          ],
          [
           19,
           "southeast"
          ],
          [
           18,
           "northeast"
          ],
          [
           43,
           "southwest"
          ],
          [
           52,
           "northwest"
          ],
          [
           31,
           "southeast"
          ],
          [
           23,
           "southeast"
          ],
          [
           20,
           "northwest"
          ],
          [
           43,
           "northeast"
          ],
          [
           19,
           "northwest"
          ],
          [
           18,
           "southeast"
          ],
          [
           36,
           "southwest"
          ],
          [
           37,
           "northeast"
          ],
          [
           46,
           "southwest"
          ],
          [
           20,
           "southeast"
          ],
          [
           52,
           "northwest"
          ],
          [
           20,
           "southwest"
          ],
          [
           52,
           "southeast"
          ],
          [
           64,
           "southeast"
          ],
          [
           32,
           "northeast"
          ],
          [
           24,
           "northeast"
          ],
          [
           20,
           "southwest"
          ],
          [
           64,
           "southeast"
          ],
          [
           24,
           "northeast"
          ],
          [
           26,
           "southeast"
          ],
          [
           39,
           "northeast"
          ],
          [
           47,
           "northwest"
          ],
          [
           18,
           "northeast"
          ],
          [
           61,
           "southwest"
          ],
          [
           20,
           "southwest"
          ],
          [
           19,
           "southwest"
          ],
          [
           45,
           "southeast"
          ],
          [
           62,
           "northwest"
          ],
          [
           43,
           "southwest"
          ],
          [
           42,
           "northeast"
          ],
          [
           29,
           "northeast"
          ],
          [
           32,
           "northwest"
          ],
          [
           25,
           "southwest"
          ],
          [
           19,
           "southwest"
          ],
          [
           30,
           "northwest"
          ],
          [
           62,
           "northeast"
          ],
          [
           42,
           "southeast"
          ],
          [
           61,
           "northwest"
          ]
         ],
         "hovertemplate": "smoker=yes<br>bmi=%{x}<br>charges=%{y}<br>age=%{customdata[0]}<br>region=%{customdata[1]}<extra></extra>",
         "legendgroup": "yes",
         "marker": {
          "color": "#636efa",
          "symbol": "circle"
         },
         "mode": "markers",
         "name": "yes",
         "showlegend": true,
         "type": "scattergl",
         "x": {
          "bdata": "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",
          "dtype": "f8"
         },
         "xaxis": "x",
         "y": {
          "bdata": "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",
          "dtype": "f8"
         },
         "yaxis": "y"
        },
        {
         "customdata": [
          [
           18,
           "southeast"
          ],
          [
           28,
           "southeast"
          ],
          [
           33,
           "northwest"
          ],
          [
           32,
           "northwest"
          ],
          [
           31,
           "southeast"
          ],
          [
           46,
           "southeast"
          ],
          [
           37,
           "northwest"
          ],
          [
           37,
           "northeast"
          ],
          [
           60,
           "northwest"
          ],
          [
           25,
           "northeast"
          ],
          [
           23,
           "southwest"
          ],
          [
           56,
           "southeast"
          ],
          [
           19,
           "southwest"
          ],
          [
           52,
           "northeast"
          ],
          [
           23,
           "northeast"
          ],
          [
           56,
           "southwest"
          ],
          [
           60,
           "northeast"
          ],
          [
           30,
           "southwest"
          ],
          [
           18,
           "southeast"
          ],
          [
           37,
           "northwest"
          ],
          [
           59,
           "southeast"
          ],
          [
           63,
           "northeast"
          ],
          [
           55,
           "northwest"
          ],
          [
           23,
           "northwest"
          ],
          [
           18,
           "northeast"
          ],
          [
           19,
           "southwest"
          ],
          [
           63,
           "northwest"
          ],
          [
           19,
           "northwest"
          ],
          [
           62,
           "northwest"
          ],
          [
           26,
           "southwest"
          ],
          [
           24,
           "northeast"
          ],
          [
           31,
           "southeast"
          ],
          [
           41,
           "southeast"
          ],
          [
           37,
           "southeast"
          ],
          [
           38,
           "northeast"
          ],
          [
           55,
           "southwest"
          ],
          [
           18,
           "northeast"
          ],
          [
           28,
           "northwest"
          ],
          [
           60,
           "southeast"
          ],
          [
           18,
           "northeast"
          ],
          [
           21,
           "northwest"
          ],
          [
           40,
           "northwest"
          ],
          [
           58,
           "northeast"
          ],
          [
           34,
           "northwest"
          ],
          [
           43,
           "northeast"
          ],
          [
           25,
           "southeast"
          ],
          [
           64,
           "northwest"
          ],
          [
           28,
           "northwest"
          ],
          [
           19,
           "southwest"
          ],
          [
           61,
           "southwest"
          ],
          [
           40,
           "northwest"
          ],
          [
           40,
           "southeast"
          ],
          [
           31,
           "northeast"
          ],
          [
           53,
           "southwest"
          ],
          [
           58,
           "southeast"
          ],
          [
           44,
           "southwest"
          ],
          [
           57,
           "northwest"
          ],
          [
           29,
           "southeast"
          ],
          [
           21,
           "southeast"
          ],
          [
           22,
           "northeast"
          ],
          [
           41,
           "northwest"
          ],
          [
           31,
           "northeast"
          ],
          [
           45,
           "northeast"
          ],
          [
           48,
           "northwest"
          ],
          [
           56,
           "southwest"
          ],
          [
           46,
           "northwest"
          ],
          [
           55,
           "northwest"
          ],
          [
           21,
           "southeast"
          ],
          [
           53,
           "northwest"
          ],
          [
           35,
           "northwest"
          ],
          [
           28,
           "southeast"
          ],
          [
           54,
           "southwest"
          ],
          [
           55,
           "southeast"
          ],
          [
           41,
           "southwest"
          ],
          [
           30,
           "northeast"
          ],
          [
           18,
           "northeast"
          ],
          [
           34,
           "southwest"
          ],
          [
           19,
           "southwest"
          ],
          [
           26,
           "northwest"
          ],
          [
           29,
           "southeast"
          ],
          [
           54,
           "northwest"
          ],
          [
           55,
           "southwest"
          ],
          [
           37,
           "southwest"
          ],
          [
           21,
           "northwest"
          ],
          [
           52,
           "northeast"
          ],
          [
           60,
           "northeast"
          ],
          [
           58,
           "southeast"
          ],
          [
           49,
           "southeast"
          ],
          [
           37,
           "northwest"
          ],
          [
           44,
           "southwest"
          ],
          [
           18,
           "northeast"
          ],
          [
           20,
           "northwest"
          ],
          [
           47,
           "northwest"
          ],
          [
           26,
           "northeast"
          ],
          [
           52,
           "southwest"
          ],
          [
           38,
           "southwest"
          ],
          [
           59,
           "northeast"
          ],
          [
           61,
           "northeast"
          ],
          [
           53,
           "southwest"
          ],
          [
           19,
           "northwest"
          ],
          [
           20,
           "northeast"
          ],
          [
           22,
           "southeast"
          ],
          [
           19,
           "southwest"
          ],
          [
           22,
           "northwest"
          ],
          [
           54,
           "southeast"
          ],
          [
           22,
           "southwest"
          ],
          [
           34,
           "northeast"
          ],
          [
           26,
           "northeast"
          ],
          [
           29,
           "northwest"
          ],
          [
           29,
           "southeast"
          ],
          [
           51,
           "southeast"
          ],
          [
           53,
           "northwest"
          ],
          [
           19,
           "southwest"
          ],
          [
           35,
           "northwest"
          ],
          [
           48,
           "southeast"
          ],
          [
           32,
           "northeast"
          ],
          [
           40,
           "northeast"
          ],
          [
           44,
           "northwest"
          ],
          [
           50,
           "southeast"
          ],
          [
           54,
           "southwest"
          ],
          [
           32,
           "southwest"
          ],
          [
           37,
           "northwest"
          ],
          [
           47,
           "northeast"
          ],
          [
           20,
           "southwest"
          ],
          [
           32,
           "northwest"
          ],
          [
           19,
           "northwest"
          ],
          [
           27,
           "northeast"
          ],
          [
           63,
           "southeast"
          ],
          [
           49,
           "southwest"
          ],
          [
           18,
           "northeast"
          ],
          [
           35,
           "southwest"
          ],
          [
           24,
           "northwest"
          ],
          [
           38,
           "northwest"
          ],
          [
           54,
           "southwest"
          ],
          [
           46,
           "southwest"
          ],
          [
           41,
           "northeast"
          ],
          [
           58,
           "northwest"
          ],
          [
           18,
           "southeast"
          ],
          [
           22,
           "northeast"
          ],
          [
           44,
           "northwest"
          ],
          [
           44,
           "southeast"
          ],
          [
           26,
           "southeast"
          ],
          [
           30,
           "southwest"
          ],
          [
           41,
           "southwest"
          ],
          [
           29,
           "northwest"
          ],
          [
           61,
           "southeast"
          ],
          [
           36,
           "southwest"
          ],
          [
           25,
           "southeast"
          ],
          [
           56,
           "northwest"
          ],
          [
           18,
           "southeast"
          ],
          [
           19,
           "northwest"
          ],
          [
           39,
           "southwest"
          ],
          [
           45,
           "southeast"
          ],
          [
           51,
           "northwest"
          ],
          [
           64,
           "northeast"
          ],
          [
           19,
           "northwest"
          ],
          [
           48,
           "southeast"
          ],
          [
           60,
           "northwest"
          ],
          [
           46,
           "southwest"
          ],
          [
           28,
           "northeast"
          ],
          [
           59,
           "southeast"
          ],
          [
           63,
           "southwest"
          ],
          [
           40,
           "northeast"
          ],
          [
           20,
           "southwest"
          ],
          [
           40,
           "northwest"
          ],
          [
           24,
           "northwest"
          ],
          [
           34,
           "southeast"
          ],
          [
           45,
           "southwest"
          ],
          [
           41,
           "southwest"
          ],
          [
           53,
           "northwest"
          ],
          [
           27,
           "southeast"
          ],
          [
           26,
           "southeast"
          ],
          [
           24,
           "southeast"
          ],
          [
           34,
           "southwest"
          ],
          [
           53,
           "northeast"
          ],
          [
           32,
           "southwest"
          ],
          [
           55,
           "southeast"
          ],
          [
           28,
           "southeast"
          ],
          [
           58,
           "southeast"
          ],
          [
           41,
           "northeast"
          ],
          [
           47,
           "northeast"
          ],
          [
           42,
           "northwest"
          ],
          [
           59,
           "southeast"
          ],
          [
           19,
           "southwest"
          ],
          [
           59,
           "southwest"
          ],
          [
           39,
           "northwest"
          ],
          [
           18,
           "southeast"
          ],
          [
           31,
           "southeast"
          ],
          [
           44,
           "southeast"
          ],
          [
           33,
           "northeast"
          ],
          [
           55,
           "southwest"
          ],
          [
           40,
           "southwest"
          ],
          [
           54,
           "northwest"
          ],
          [
           60,
           "southeast"
          ],
          [
           24,
           "southeast"
          ],
          [
           19,
           "southwest"
          ],
          [
           29,
           "northeast"
          ],
          [
           27,
           "southwest"
          ],
          [
           55,
           "northeast"
          ],
          [
           38,
           "southeast"
          ],
          [
           51,
           "northwest"
          ],
          [
           58,
           "southwest"
          ],
          [
           53,
           "southeast"
          ],
          [
           59,
           "northeast"
          ],
          [
           45,
           "southwest"
          ],
          [
           49,
           "northeast"
          ],
          [
           18,
           "southeast"
          ],
          [
           41,
           "northwest"
          ],
          [
           50,
           "northeast"
          ],
          [
           25,
           "northwest"
          ],
          [
           47,
           "northeast"
          ],
          [
           19,
           "northwest"
          ],
          [
           22,
           "southwest"
          ],
          [
           59,
           "southeast"
          ],
          [
           51,
           "southeast"
          ],
          [
           30,
           "northeast"
          ],
          [
           55,
           "northeast"
          ],
          [
           52,
           "southwest"
          ],
          [
           46,
           "southeast"
          ],
          [
           46,
           "northeast"
          ],
          [
           63,
           "northwest"
          ],
          [
           52,
           "southeast"
          ],
          [
           28,
           "southwest"
          ],
          [
           29,
           "northeast"
          ],
          [
           22,
           "southeast"
          ],
          [
           25,
           "southwest"
          ],
          [
           18,
           "northeast"
          ],
          [
           48,
           "northwest"
          ],
          [
           36,
           "northeast"
          ],
          [
           56,
           "southeast"
          ],
          [
           28,
           "southeast"
          ],
          [
           57,
           "southwest"
          ],
          [
           29,
           "northwest"
          ],
          [
           28,
           "southwest"
          ],
          [
           30,
           "southeast"
          ],
          [
           58,
           "northeast"
          ],
          [
           41,
           "northwest"
          ],
          [
           50,
           "southwest"
          ],
          [
           19,
           "southwest"
          ],
          [
           49,
           "southeast"
          ],
          [
           52,
           "northeast"
          ],
          [
           50,
           "northwest"
          ],
          [
           54,
           "northeast"
          ],
          [
           44,
           "northwest"
          ],
          [
           32,
           "northeast"
          ],
          [
           34,
           "northwest"
          ],
          [
           26,
           "northeast"
          ],
          [
           57,
           "northeast"
          ],
          [
           29,
           "southwest"
          ],
          [
           40,
           "northeast"
          ],
          [
           27,
           "southeast"
          ],
          [
           52,
           "southwest"
          ],
          [
           61,
           "northwest"
          ],
          [
           56,
           "northeast"
          ],
          [
           43,
           "northeast"
          ],
          [
           64,
           "southwest"
          ],
          [
           60,
           "southeast"
          ],
          [
           62,
           "northwest"
          ],
          [
           46,
           "southeast"
          ],
          [
           24,
           "southwest"
          ],
          [
           62,
           "northwest"
          ],
          [
           60,
           "northeast"
          ],
          [
           63,
           "northeast"
          ],
          [
           49,
           "southeast"
          ],
          [
           34,
           "southeast"
          ],
          [
           33,
           "southeast"
          ],
          [
           46,
           "northeast"
          ],
          [
           36,
           "southeast"
          ],
          [
           19,
           "northwest"
          ],
          [
           57,
           "northwest"
          ],
          [
           50,
           "southwest"
          ],
          [
           30,
           "southwest"
          ],
          [
           33,
           "northeast"
          ],
          [
           18,
           "southeast"
          ],
          [
           46,
           "southwest"
          ],
          [
           46,
           "southeast"
          ],
          [
           47,
           "northwest"
          ],
          [
           23,
           "southeast"
          ],
          [
           18,
           "southeast"
          ],
          [
           48,
           "northeast"
          ],
          [
           35,
           "southwest"
          ],
          [
           21,
           "southwest"
          ],
          [
           21,
           "southeast"
          ],
          [
           49,
           "northeast"
          ],
          [
           56,
           "northeast"
          ],
          [
           42,
           "northwest"
          ],
          [
           44,
           "northwest"
          ],
          [
           18,
           "northeast"
          ],
          [
           61,
           "northwest"
          ],
          [
           57,
           "northeast"
          ],
          [
           42,
           "northeast"
          ],
          [
           20,
           "southeast"
          ],
          [
           64,
           "northwest"
          ],
          [
           62,
           "southeast"
          ],
          [
           55,
           "southeast"
          ],
          [
           35,
           "southeast"
          ],
          [
           44,
           "northeast"
          ],
          [
           19,
           "southwest"
          ],
          [
           58,
           "southeast"
          ],
          [
           50,
           "northwest"
          ],
          [
           26,
           "northwest"
          ],
          [
           24,
           "northwest"
          ],
          [
           48,
           "northeast"
          ],
          [
           19,
           "northwest"
          ],
          [
           48,
           "northeast"
          ],
          [
           49,
           "northeast"
          ],
          [
           46,
           "northeast"
          ],
          [
           46,
           "northwest"
          ],
          [
           43,
           "southwest"
          ],
          [
           21,
           "southeast"
          ],
          [
           64,
           "southwest"
          ],
          [
           18,
           "southeast"
          ],
          [
           51,
           "southwest"
          ],
          [
           47,
           "southeast"
          ],
          [
           64,
           "northwest"
          ],
          [
           49,
           "northwest"
          ],
          [
           31,
           "southwest"
          ],
          [
           52,
           "northeast"
          ],
          [
           33,
           "southeast"
          ],
          [
           47,
           "southwest"
          ],
          [
           38,
           "southeast"
          ],
          [
           32,
           "southeast"
          ],
          [
           19,
           "northwest"
          ],
          [
           25,
           "southwest"
          ],
          [
           19,
           "northwest"
          ],
          [
           43,
           "southeast"
          ],
          [
           52,
           "southeast"
          ],
          [
           64,
           "southeast"
          ],
          [
           25,
           "northeast"
          ],
          [
           48,
           "southwest"
          ],
          [
           45,
           "southeast"
          ],
          [
           38,
           "northeast"
          ],
          [
           18,
           "northeast"
          ],
          [
           21,
           "northeast"
          ],
          [
           27,
           "northwest"
          ],
          [
           19,
           "southwest"
          ],
          [
           29,
           "northwest"
          ],
          [
           42,
           "southwest"
          ],
          [
           60,
           "southwest"
          ],
          [
           31,
           "northwest"
          ],
          [
           60,
           "southeast"
          ],
          [
           22,
           "northeast"
          ],
          [
           35,
           "southwest"
          ],
          [
           52,
           "southeast"
          ],
          [
           26,
           "northeast"
          ],
          [
           31,
           "northwest"
          ],
          [
           18,
           "southeast"
          ],
          [
           59,
           "southeast"
          ],
          [
           45,
           "southwest"
          ],
          [
           60,
           "northeast"
          ],
          [
           56,
           "northwest"
          ],
          [
           40,
           "southwest"
          ],
          [
           35,
           "southwest"
          ],
          [
           39,
           "southwest"
          ],
          [
           30,
           "northwest"
          ],
          [
           24,
           "southwest"
          ],
          [
           20,
           "northwest"
          ],
          [
           32,
           "southeast"
          ],
          [
           59,
           "southwest"
          ],
          [
           55,
           "southeast"
          ],
          [
           57,
           "northwest"
          ],
          [
           56,
           "southwest"
          ],
          [
           40,
           "southeast"
          ],
          [
           49,
           "southeast"
          ],
          [
           62,
           "northeast"
          ],
          [
           56,
           "northeast"
          ],
          [
           19,
           "northwest"
          ],
          [
           60,
           "southwest"
          ],
          [
           56,
           "northwest"
          ],
          [
           28,
           "northeast"
          ],
          [
           18,
           "southeast"
          ],
          [
           27,
           "southeast"
          ],
          [
           18,
           "northeast"
          ],
          [
           19,
           "southwest"
          ],
          [
           47,
           "northeast"
          ],
          [
           25,
           "northwest"
          ],
          [
           21,
           "southeast"
          ],
          [
           23,
           "southeast"
          ],
          [
           63,
           "northwest"
          ],
          [
           49,
           "southeast"
          ],
          [
           18,
           "southeast"
          ],
          [
           51,
           "southwest"
          ],
          [
           48,
           "southwest"
          ],
          [
           31,
           "northeast"
          ],
          [
           54,
           "northwest"
          ],
          [
           19,
           "southwest"
          ],
          [
           53,
           "northwest"
          ],
          [
           19,
           "southwest"
          ],
          [
           61,
           "southeast"
          ],
          [
           18,
           "northeast"
          ],
          [
           61,
           "southwest"
          ],
          [
           20,
           "northeast"
          ],
          [
           31,
           "southwest"
          ],
          [
           45,
           "southwest"
          ],
          [
           44,
           "southeast"
          ],
          [
           62,
           "southwest"
          ],
          [
           43,
           "northeast"
          ],
          [
           38,
           "southeast"
          ],
          [
           37,
           "northwest"
          ],
          [
           22,
           "northwest"
          ],
          [
           21,
           "northwest"
          ],
          [
           24,
           "northeast"
          ],
          [
           57,
           "southwest"
          ],
          [
           56,
           "northeast"
          ],
          [
           27,
           "southeast"
          ],
          [
           51,
           "northeast"
          ],
          [
           19,
           "southwest"
          ],
          [
           58,
           "southwest"
          ],
          [
           20,
           "southeast"
          ],
          [
           45,
           "northwest"
          ],
          [
           35,
           "southwest"
          ],
          [
           31,
           "northeast"
          ],
          [
           50,
           "northeast"
          ],
          [
           32,
           "southeast"
          ],
          [
           51,
           "northeast"
          ],
          [
           38,
           "southeast"
          ],
          [
           18,
           "southeast"
          ],
          [
           19,
           "northwest"
          ],
          [
           51,
           "southwest"
          ],
          [
           46,
           "northeast"
          ],
          [
           18,
           "northeast"
          ],
          [
           62,
           "northeast"
          ],
          [
           59,
           "southeast"
          ],
          [
           37,
           "southeast"
          ],
          [
           64,
           "southeast"
          ],
          [
           38,
           "northeast"
          ],
          [
           33,
           "southwest"
          ],
          [
           46,
           "southwest"
          ],
          [
           46,
           "southeast"
          ],
          [
           53,
           "southeast"
          ],
          [
           34,
           "southwest"
          ],
          [
           20,
           "southeast"
          ],
          [
           63,
           "southeast"
          ],
          [
           54,
           "northwest"
          ],
          [
           28,
           "northeast"
          ],
          [
           54,
           "southwest"
          ],
          [
           25,
           "northeast"
          ],
          [
           63,
           "southwest"
          ],
          [
           32,
           "southeast"
          ],
          [
           62,
           "southwest"
          ],
          [
           52,
           "northwest"
          ],
          [
           25,
           "northeast"
          ],
          [
           28,
           "southwest"
          ],
          [
           46,
           "northeast"
          ],
          [
           34,
           "southeast"
          ],
          [
           19,
           "northwest"
          ],
          [
           46,
           "northwest"
          ],
          [
           54,
           "northeast"
          ],
          [
           27,
           "southwest"
          ],
          [
           50,
           "southeast"
          ],
          [
           18,
           "southeast"
          ],
          [
           19,
           "northwest"
          ],
          [
           38,
           "northwest"
          ],
          [
           41,
           "northwest"
          ],
          [
           49,
           "southwest"
          ],
          [
           31,
           "southwest"
          ],
          [
           18,
           "southeast"
          ],
          [
           30,
           "southeast"
          ],
          [
           62,
           "northeast"
          ],
          [
           57,
           "northeast"
          ],
          [
           58,
           "northwest"
          ],
          [
           22,
           "southeast"
          ],
          [
           52,
           "southwest"
          ],
          [
           25,
           "northeast"
          ],
          [
           59,
           "northeast"
          ],
          [
           19,
           "northwest"
          ],
          [
           39,
           "southeast"
          ],
          [
           32,
           "southeast"
          ],
          [
           19,
           "southwest"
          ],
          [
           33,
           "southeast"
          ],
          [
           21,
           "northeast"
          ],
          [
           61,
           "northeast"
          ],
          [
           38,
           "southeast"
          ],
          [
           58,
           "southwest"
          ],
          [
           47,
           "northwest"
          ],
          [
           20,
           "southeast"
          ],
          [
           41,
           "southeast"
          ],
          [
           46,
           "northeast"
          ],
          [
           42,
           "southeast"
          ],
          [
           34,
           "northeast"
          ],
          [
           43,
           "southwest"
          ],
          [
           52,
           "northwest"
          ],
          [
           18,
           "southeast"
          ],
          [
           51,
           "northwest"
          ],
          [
           56,
           "southwest"
          ],
          [
           64,
           "southeast"
          ],
          [
           51,
           "southeast"
          ],
          [
           27,
           "northeast"
          ],
          [
           28,
           "northeast"
          ],
          [
           47,
           "southeast"
          ],
          [
           38,
           "southwest"
          ],
          [
           18,
           "northeast"
          ],
          [
           34,
           "northeast"
          ],
          [
           20,
           "southeast"
          ],
          [
           56,
           "northeast"
          ],
          [
           55,
           "southwest"
          ],
          [
           30,
           "southwest"
          ],
          [
           49,
           "southwest"
          ],
          [
           59,
           "northwest"
          ],
          [
           29,
           "northwest"
          ],
          [
           36,
           "northeast"
          ],
          [
           33,
           "southeast"
          ],
          [
           58,
           "southwest"
          ],
          [
           53,
           "southwest"
          ],
          [
           24,
           "southwest"
          ],
          [
           29,
           "southeast"
          ],
          [
           40,
           "northeast"
          ],
          [
           51,
           "southwest"
          ],
          [
           64,
           "northeast"
          ],
          [
           19,
           "northwest"
          ],
          [
           35,
           "northeast"
          ],
          [
           56,
           "southeast"
          ],
          [
           33,
           "southwest"
          ],
          [
           61,
           "northeast"
          ],
          [
           23,
           "northwest"
          ],
          [
           43,
           "southeast"
          ],
          [
           48,
           "northeast"
          ],
          [
           39,
           "northwest"
          ],
          [
           40,
           "northeast"
          ],
          [
           18,
           "northeast"
          ],
          [
           58,
           "northeast"
          ],
          [
           49,
           "southeast"
          ],
          [
           53,
           "southeast"
          ],
          [
           48,
           "southeast"
          ],
          [
           45,
           "southeast"
          ],
          [
           59,
           "southeast"
          ],
          [
           26,
           "southwest"
          ],
          [
           27,
           "northwest"
          ],
          [
           48,
           "northeast"
          ],
          [
           57,
           "northeast"
          ],
          [
           37,
           "southeast"
          ],
          [
           57,
           "southeast"
          ],
          [
           32,
           "northeast"
          ],
          [
           18,
           "southeast"
          ],
          [
           49,
           "southwest"
          ],
          [
           40,
           "southeast"
          ],
          [
           30,
           "southeast"
          ],
          [
           29,
           "northeast"
          ],
          [
           36,
           "southeast"
          ],
          [
           41,
           "southeast"
          ],
          [
           45,
           "northwest"
          ],
          [
           55,
           "southeast"
          ],
          [
           56,
           "southwest"
          ],
          [
           49,
           "northwest"
          ],
          [
           21,
           "southwest"
          ],
          [
           19,
           "southwest"
          ],
          [
           53,
           "northwest"
          ],
          [
           33,
           "southwest"
          ],
          [
           53,
           "northeast"
          ],
          [
           42,
           "northeast"
          ],
          [
           40,
           "southeast"
          ],
          [
           47,
           "southwest"
          ],
          [
           21,
           "northeast"
          ],
          [
           47,
           "southwest"
          ],
          [
           20,
           "northwest"
          ],
          [
           24,
           "northwest"
          ],
          [
           27,
           "southwest"
          ],
          [
           26,
           "northwest"
          ],
          [
           53,
           "northeast"
          ],
          [
           56,
           "northwest"
          ],
          [
           23,
           "southeast"
          ],
          [
           21,
           "southeast"
          ],
          [
           50,
           "northeast"
          ],
          [
           53,
           "southeast"
          ],
          [
           34,
           "northwest"
          ],
          [
           47,
           "northwest"
          ],
          [
           33,
           "southwest"
          ],
          [
           49,
           "northwest"
          ],
          [
           31,
           "northeast"
          ],
          [
           36,
           "northeast"
          ],
          [
           18,
           "southeast"
          ],
          [
           50,
           "southeast"
          ],
          [
           43,
           "northwest"
          ],
          [
           20,
           "northeast"
          ],
          [
           24,
           "southwest"
          ],
          [
           60,
           "southwest"
          ],
          [
           49,
           "northwest"
          ],
          [
           60,
           "northwest"
          ],
          [
           51,
           "northwest"
          ],
          [
           58,
           "northwest"
          ],
          [
           51,
           "northeast"
          ],
          [
           53,
           "southwest"
          ],
          [
           62,
           "southwest"
          ],
          [
           19,
           "southwest"
          ],
          [
           50,
           "northeast"
          ],
          [
           41,
           "northwest"
          ],
          [
           18,
           "northeast"
          ],
          [
           41,
           "southeast"
          ],
          [
           53,
           "southwest"
          ],
          [
           24,
           "southwest"
          ],
          [
           48,
           "northeast"
          ],
          [
           59,
           "southwest"
          ],
          [
           49,
           "northwest"
          ],
          [
           26,
           "southwest"
          ],
          [
           45,
           "northeast"
          ],
          [
           31,
           "southeast"
          ],
          [
           50,
           "northwest"
          ],
          [
           50,
           "northwest"
          ],
          [
           34,
           "southwest"
          ],
          [
           19,
           "northwest"
          ],
          [
           47,
           "southwest"
          ],
          [
           28,
           "northwest"
          ],
          [
           21,
           "northwest"
          ],
          [
           64,
           "northwest"
          ],
          [
           58,
           "southeast"
          ],
          [
           24,
           "northeast"
          ],
          [
           31,
           "northeast"
          ],
          [
           39,
           "northeast"
          ],
          [
           30,
           "northeast"
          ],
          [
           22,
           "northeast"
          ],
          [
           23,
           "southwest"
          ],
          [
           27,
           "northeast"
          ],
          [
           45,
           "northeast"
          ],
          [
           57,
           "northwest"
          ],
          [
           47,
           "southwest"
          ],
          [
           42,
           "southwest"
          ],
          [
           64,
           "southwest"
          ],
          [
           38,
           "northwest"
          ],
          [
           61,
           "southwest"
          ],
          [
           53,
           "southwest"
          ],
          [
           44,
           "northeast"
          ],
          [
           41,
           "northwest"
          ],
          [
           51,
           "southeast"
          ],
          [
           40,
           "northwest"
          ],
          [
           45,
           "northeast"
          ],
          [
           35,
           "southeast"
          ],
          [
           53,
           "northwest"
          ],
          [
           18,
           "southeast"
          ],
          [
           51,
           "southeast"
          ],
          [
           31,
           "southeast"
          ],
          [
           35,
           "southwest"
          ],
          [
           60,
           "northeast"
          ],
          [
           21,
           "northwest"
          ],
          [
           29,
           "northeast"
          ],
          [
           62,
           "southeast"
          ],
          [
           39,
           "southeast"
          ],
          [
           19,
           "southwest"
          ],
          [
           22,
           "northeast"
          ],
          [
           39,
           "northwest"
          ],
          [
           30,
           "southeast"
          ],
          [
           30,
           "northeast"
          ],
          [
           58,
           "southwest"
          ],
          [
           42,
           "southeast"
          ],
          [
           64,
           "southeast"
          ],
          [
           21,
           "southwest"
          ],
          [
           23,
           "southeast"
          ],
          [
           45,
           "northwest"
          ],
          [
           40,
           "northwest"
          ],
          [
           19,
           "northwest"
          ],
          [
           18,
           "southeast"
          ],
          [
           25,
           "northeast"
          ],
          [
           46,
           "southwest"
          ],
          [
           33,
           "northwest"
          ],
          [
           54,
           "southeast"
          ],
          [
           28,
           "northeast"
          ],
          [
           36,
           "southeast"
          ],
          [
           20,
           "southeast"
          ],
          [
           24,
           "northwest"
          ],
          [
           23,
           "southwest"
          ],
          [
           45,
           "southwest"
          ],
          [
           26,
           "northwest"
          ],
          [
           18,
           "southeast"
          ],
          [
           44,
           "southeast"
          ],
          [
           60,
           "northwest"
          ],
          [
           64,
           "northeast"
          ],
          [
           39,
           "northwest"
          ],
          [
           63,
           "southwest"
          ],
          [
           36,
           "northwest"
          ],
          [
           28,
           "northwest"
          ],
          [
           58,
           "northwest"
          ],
          [
           36,
           "northwest"
          ],
          [
           42,
           "southeast"
          ],
          [
           36,
           "southwest"
          ],
          [
           56,
           "northeast"
          ],
          [
           35,
           "northeast"
          ],
          [
           59,
           "northwest"
          ],
          [
           21,
           "southwest"
          ],
          [
           59,
           "northeast"
          ],
          [
           53,
           "northeast"
          ],
          [
           51,
           "southwest"
          ],
          [
           23,
           "southeast"
          ],
          [
           27,
           "southwest"
          ],
          [
           55,
           "northwest"
          ],
          [
           61,
           "northwest"
          ],
          [
           53,
           "northeast"
          ],
          [
           20,
           "southwest"
          ],
          [
           25,
           "southeast"
          ],
          [
           57,
           "southwest"
          ],
          [
           38,
           "southwest"
          ],
          [
           55,
           "northwest"
          ],
          [
           36,
           "northeast"
          ],
          [
           51,
           "southwest"
          ],
          [
           40,
           "southwest"
          ],
          [
           18,
           "southeast"
          ],
          [
           57,
           "southwest"
          ],
          [
           61,
           "northeast"
          ],
          [
           25,
           "southwest"
          ],
          [
           50,
           "southwest"
          ],
          [
           26,
           "southeast"
          ],
          [
           42,
           "southeast"
          ],
          [
           43,
           "southwest"
          ],
          [
           44,
           "northeast"
          ],
          [
           23,
           "northwest"
          ],
          [
           49,
           "southwest"
          ],
          [
           33,
           "southeast"
          ],
          [
           41,
           "southwest"
          ],
          [
           37,
           "southwest"
          ],
          [
           22,
           "southwest"
          ],
          [
           23,
           "northwest"
          ],
          [
           21,
           "northeast"
          ],
          [
           25,
           "northwest"
          ],
          [
           36,
           "northwest"
          ],
          [
           22,
           "southwest"
          ],
          [
           57,
           "northwest"
          ],
          [
           36,
           "southeast"
          ],
          [
           54,
           "northeast"
          ],
          [
           62,
           "northeast"
          ],
          [
           61,
           "southwest"
          ],
          [
           19,
           "northwest"
          ],
          [
           18,
           "southeast"
          ],
          [
           19,
           "northwest"
          ],
          [
           49,
           "northeast"
          ],
          [
           26,
           "northeast"
          ],
          [
           49,
           "southeast"
          ],
          [
           60,
           "southwest"
          ],
          [
           26,
           "northeast"
          ],
          [
           27,
           "northeast"
          ],
          [
           44,
           "southeast"
          ],
          [
           63,
           "southwest"
          ],
          [
           22,
           "northwest"
          ],
          [
           59,
           "northwest"
          ],
          [
           44,
           "southwest"
          ],
          [
           33,
           "northwest"
          ],
          [
           24,
           "southeast"
          ],
          [
           61,
           "southwest"
          ],
          [
           35,
           "southeast"
          ],
          [
           62,
           "southwest"
          ],
          [
           62,
           "southwest"
          ],
          [
           38,
           "southwest"
          ],
          [
           34,
           "northwest"
          ],
          [
           43,
           "southwest"
          ],
          [
           50,
           "northeast"
          ],
          [
           19,
           "southwest"
          ],
          [
           57,
           "southwest"
          ],
          [
           62,
           "southeast"
          ],
          [
           41,
           "southeast"
          ],
          [
           26,
           "southeast"
          ],
          [
           39,
           "southwest"
          ],
          [
           46,
           "southwest"
          ],
          [
           45,
           "southwest"
          ],
          [
           32,
           "southeast"
          ],
          [
           59,
           "southwest"
          ],
          [
           44,
           "northeast"
          ],
          [
           39,
           "northwest"
          ],
          [
           18,
           "southeast"
          ],
          [
           53,
           "southeast"
          ],
          [
           18,
           "southeast"
          ],
          [
           50,
           "southeast"
          ],
          [
           18,
           "northeast"
          ],
          [
           19,
           "northwest"
          ],
          [
           62,
           "southeast"
          ],
          [
           56,
           "southwest"
          ],
          [
           42,
           "southwest"
          ],
          [
           42,
           "northwest"
          ],
          [
           57,
           "northeast"
          ],
          [
           30,
           "northwest"
          ],
          [
           31,
           "southeast"
          ],
          [
           24,
           "northwest"
          ],
          [
           48,
           "northwest"
          ],
          [
           19,
           "northwest"
          ],
          [
           29,
           "southwest"
          ],
          [
           63,
           "southeast"
          ],
          [
           46,
           "northeast"
          ],
          [
           52,
           "northwest"
          ],
          [
           35,
           "southwest"
          ],
          [
           44,
           "northwest"
          ],
          [
           21,
           "northeast"
          ],
          [
           39,
           "southeast"
          ],
          [
           50,
           "southeast"
          ],
          [
           34,
           "northeast"
          ],
          [
           22,
           "northwest"
          ],
          [
           19,
           "southwest"
          ],
          [
           26,
           "southeast"
          ],
          [
           48,
           "southeast"
          ],
          [
           26,
           "southeast"
          ],
          [
           45,
           "northeast"
          ],
          [
           36,
           "southeast"
          ],
          [
           54,
           "northeast"
          ],
          [
           34,
           "northeast"
          ],
          [
           27,
           "northeast"
          ],
          [
           20,
           "northeast"
          ],
          [
           44,
           "southwest"
          ],
          [
           43,
           "northwest"
          ],
          [
           45,
           "northwest"
          ],
          [
           34,
           "northeast"
          ],
          [
           26,
           "southwest"
          ],
          [
           38,
           "northeast"
          ],
          [
           50,
           "southwest"
          ],
          [
           38,
           "southeast"
          ],
          [
           39,
           "northeast"
          ],
          [
           39,
           "southwest"
          ],
          [
           63,
           "southeast"
          ],
          [
           33,
           "northeast"
          ],
          [
           36,
           "northwest"
          ],
          [
           24,
           "southwest"
          ],
          [
           48,
           "southwest"
          ],
          [
           47,
           "northeast"
          ],
          [
           29,
           "northwest"
          ],
          [
           28,
           "northeast"
          ],
          [
           25,
           "northeast"
          ],
          [
           51,
           "northeast"
          ],
          [
           48,
           "southwest"
          ],
          [
           61,
           "southeast"
          ],
          [
           48,
           "northwest"
          ],
          [
           38,
           "southwest"
          ],
          [
           59,
           "northwest"
          ],
          [
           19,
           "northwest"
          ],
          [
           26,
           "southwest"
          ],
          [
           54,
           "northwest"
          ],
          [
           21,
           "northwest"
          ],
          [
           51,
           "southwest"
          ],
          [
           18,
           "southeast"
          ],
          [
           47,
           "southeast"
          ],
          [
           21,
           "southwest"
          ],
          [
           23,
           "northwest"
          ],
          [
           54,
           "southwest"
          ],
          [
           37,
           "northeast"
          ],
          [
           30,
           "northeast"
          ],
          [
           61,
           "northwest"
          ],
          [
           54,
           "southwest"
          ],
          [
           22,
           "northeast"
          ],
          [
           19,
           "northwest"
          ],
          [
           18,
           "northeast"
          ],
          [
           28,
           "southwest"
          ],
          [
           55,
           "northeast"
          ],
          [
           43,
           "northeast"
          ],
          [
           25,
           "northwest"
          ],
          [
           44,
           "northwest"
          ],
          [
           64,
           "northeast"
          ],
          [
           49,
           "northeast"
          ],
          [
           27,
           "northwest"
          ],
          [
           55,
           "northwest"
          ],
          [
           48,
           "southwest"
          ],
          [
           45,
           "southeast"
          ],
          [
           24,
           "southeast"
          ],
          [
           32,
           "northwest"
          ],
          [
           24,
           "southeast"
          ],
          [
           57,
           "southeast"
          ],
          [
           36,
           "northwest"
          ],
          [
           29,
           "southwest"
          ],
          [
           42,
           "southwest"
          ],
          [
           48,
           "southeast"
          ],
          [
           39,
           "northeast"
          ],
          [
           63,
           "northwest"
          ],
          [
           54,
           "southeast"
          ],
          [
           63,
           "northeast"
          ],
          [
           21,
           "northwest"
          ],
          [
           54,
           "northeast"
          ],
          [
           60,
           "northeast"
          ],
          [
           32,
           "southeast"
          ],
          [
           47,
           "southwest"
          ],
          [
           21,
           "northeast"
          ],
          [
           63,
           "southeast"
          ],
          [
           18,
           "southeast"
          ],
          [
           32,
           "northwest"
          ],
          [
           38,
           "northwest"
          ],
          [
           32,
           "southwest"
          ],
          [
           62,
           "northwest"
          ],
          [
           55,
           "northeast"
          ],
          [
           57,
           "northwest"
          ],
          [
           52,
           "southeast"
          ],
          [
           56,
           "southwest"
          ],
          [
           55,
           "northeast"
          ],
          [
           23,
           "southwest"
          ],
          [
           50,
           "southwest"
          ],
          [
           18,
           "northeast"
          ],
          [
           22,
           "southeast"
          ],
          [
           52,
           "northeast"
          ],
          [
           25,
           "southeast"
          ],
          [
           53,
           "southwest"
          ],
          [
           29,
           "southeast"
          ],
          [
           58,
           "southeast"
          ],
          [
           37,
           "southwest"
          ],
          [
           54,
           "southeast"
          ],
          [
           49,
           "northwest"
          ],
          [
           50,
           "northwest"
          ],
          [
           26,
           "southwest"
          ],
          [
           45,
           "southeast"
          ],
          [
           54,
           "northeast"
          ],
          [
           28,
           "northwest"
          ],
          [
           23,
           "northeast"
          ],
          [
           55,
           "southeast"
          ],
          [
           41,
           "northeast"
          ],
          [
           30,
           "northwest"
          ],
          [
           46,
           "southeast"
          ],
          [
           27,
           "northeast"
          ],
          [
           63,
           "northwest"
          ],
          [
           55,
           "southwest"
          ],
          [
           35,
           "southeast"
          ],
          [
           34,
           "southwest"
          ],
          [
           19,
           "southwest"
          ],
          [
           39,
           "southeast"
          ],
          [
           27,
           "southwest"
          ],
          [
           57,
           "northeast"
          ],
          [
           52,
           "northwest"
          ],
          [
           28,
           "northwest"
          ],
          [
           50,
           "northwest"
          ],
          [
           44,
           "southwest"
          ],
          [
           26,
           "northwest"
          ],
          [
           33,
           "southeast"
          ],
          [
           50,
           "southeast"
          ],
          [
           41,
           "southwest"
          ],
          [
           52,
           "southeast"
          ],
          [
           39,
           "southeast"
          ],
          [
           50,
           "southwest"
          ],
          [
           52,
           "northwest"
          ],
          [
           20,
           "northwest"
          ],
          [
           55,
           "southwest"
          ],
          [
           42,
           "southwest"
          ],
          [
           18,
           "northeast"
          ],
          [
           58,
           "northwest"
          ],
          [
           35,
           "northwest"
          ],
          [
           48,
           "northwest"
          ],
          [
           36,
           "northeast"
          ],
          [
           23,
           "northwest"
          ],
          [
           20,
           "northeast"
          ],
          [
           32,
           "southwest"
          ],
          [
           43,
           "northwest"
          ],
          [
           34,
           "southeast"
          ],
          [
           30,
           "southeast"
          ],
          [
           18,
           "northeast"
          ],
          [
           41,
           "northwest"
          ],
          [
           35,
           "northeast"
          ],
          [
           57,
           "southeast"
          ],
          [
           29,
           "southwest"
          ],
          [
           32,
           "southwest"
          ],
          [
           37,
           "northwest"
          ],
          [
           56,
           "southeast"
          ],
          [
           38,
           "northwest"
          ],
          [
           29,
           "northwest"
          ],
          [
           22,
           "southwest"
          ],
          [
           40,
           "southwest"
          ],
          [
           23,
           "northeast"
          ],
          [
           42,
           "northeast"
          ],
          [
           24,
           "northwest"
          ],
          [
           25,
           "southwest"
          ],
          [
           48,
           "northeast"
          ],
          [
           45,
           "northeast"
          ],
          [
           62,
           "northwest"
          ],
          [
           23,
           "southwest"
          ],
          [
           31,
           "northwest"
          ],
          [
           41,
           "northeast"
          ],
          [
           58,
           "northeast"
          ],
          [
           48,
           "northwest"
          ],
          [
           31,
           "northwest"
          ],
          [
           19,
           "northwest"
          ],
          [
           41,
           "southeast"
          ],
          [
           40,
           "northwest"
          ],
          [
           31,
           "southwest"
          ],
          [
           37,
           "northwest"
          ],
          [
           46,
           "northwest"
          ],
          [
           22,
           "northwest"
          ],
          [
           51,
           "northeast"
          ],
          [
           35,
           "northwest"
          ],
          [
           59,
           "southwest"
          ],
          [
           59,
           "southwest"
          ],
          [
           36,
           "northwest"
          ],
          [
           39,
           "southeast"
          ],
          [
           18,
           "northeast"
          ],
          [
           52,
           "southwest"
          ],
          [
           27,
           "northwest"
          ],
          [
           18,
           "northeast"
          ],
          [
           40,
           "southeast"
          ],
          [
           29,
           "southeast"
          ],
          [
           38,
           "northwest"
          ],
          [
           30,
           "northeast"
          ],
          [
           40,
           "southeast"
          ],
          [
           50,
           "southeast"
          ],
          [
           41,
           "northeast"
          ],
          [
           33,
           "southeast"
          ],
          [
           38,
           "northeast"
          ],
          [
           42,
           "southeast"
          ],
          [
           56,
           "southeast"
          ],
          [
           58,
           "northeast"
          ],
          [
           54,
           "northwest"
          ],
          [
           58,
           "southwest"
          ],
          [
           45,
           "southeast"
          ],
          [
           26,
           "northwest"
          ],
          [
           63,
           "northeast"
          ],
          [
           58,
           "northwest"
          ],
          [
           37,
           "northeast"
          ],
          [
           25,
           "southeast"
          ],
          [
           22,
           "northwest"
          ],
          [
           28,
           "southeast"
          ],
          [
           18,
           "southeast"
          ],
          [
           28,
           "southwest"
          ],
          [
           45,
           "southwest"
          ],
          [
           33,
           "southwest"
          ],
          [
           18,
           "southeast"
          ],
          [
           19,
           "southwest"
          ],
          [
           40,
           "southwest"
          ],
          [
           34,
           "southeast"
          ],
          [
           42,
           "southwest"
          ],
          [
           51,
           "northwest"
          ],
          [
           54,
           "northwest"
          ],
          [
           55,
           "northwest"
          ],
          [
           52,
           "northeast"
          ],
          [
           32,
           "northeast"
          ],
          [
           28,
           "southwest"
          ],
          [
           41,
           "southeast"
          ],
          [
           43,
           "southwest"
          ],
          [
           49,
           "northeast"
          ],
          [
           55,
           "southwest"
          ],
          [
           20,
           "southwest"
          ],
          [
           45,
           "southwest"
          ],
          [
           26,
           "northwest"
          ],
          [
           25,
           "northwest"
          ],
          [
           43,
           "southeast"
          ],
          [
           35,
           "southeast"
          ],
          [
           57,
           "southwest"
          ],
          [
           22,
           "northeast"
          ],
          [
           32,
           "northwest"
          ],
          [
           25,
           "northwest"
          ],
          [
           48,
           "southeast"
          ],
          [
           18,
           "southeast"
          ],
          [
           47,
           "northeast"
          ],
          [
           28,
           "northeast"
          ],
          [
           36,
           "southwest"
          ],
          [
           44,
           "southeast"
          ],
          [
           38,
           "northeast"
          ],
          [
           21,
           "southeast"
          ],
          [
           46,
           "northwest"
          ],
          [
           58,
           "northeast"
          ],
          [
           20,
           "southwest"
          ],
          [
           18,
           "northeast"
          ],
          [
           28,
           "southeast"
          ],
          [
           33,
           "northwest"
          ],
          [
           19,
           "northwest"
          ],
          [
           25,
           "southwest"
          ],
          [
           24,
           "southeast"
          ],
          [
           41,
           "southwest"
          ],
          [
           42,
           "northwest"
          ],
          [
           33,
           "northwest"
          ],
          [
           34,
           "southwest"
          ],
          [
           18,
           "northeast"
          ],
          [
           19,
           "southwest"
          ],
          [
           18,
           "southeast"
          ],
          [
           35,
           "northeast"
          ],
          [
           39,
           "northwest"
          ],
          [
           31,
           "northwest"
          ],
          [
           62,
           "southeast"
          ],
          [
           31,
           "northwest"
          ],
          [
           61,
           "northeast"
          ],
          [
           42,
           "northeast"
          ],
          [
           51,
           "southeast"
          ],
          [
           23,
           "northeast"
          ],
          [
           52,
           "southwest"
          ],
          [
           57,
           "southeast"
          ],
          [
           23,
           "southwest"
          ],
          [
           52,
           "southwest"
          ],
          [
           50,
           "northwest"
          ],
          [
           18,
           "northeast"
          ],
          [
           18,
           "southeast"
          ],
          [
           21,
           "southwest"
          ]
         ],
         "hovertemplate": "smoker=no<br>bmi=%{x}<br>charges=%{y}<br>age=%{customdata[0]}<br>region=%{customdata[1]}<extra></extra>",
         "legendgroup": "no",
         "marker": {
          "color": "#EF553B",
          "symbol": "circle"
         },
         "mode": "markers",
         "name": "no",
         "showlegend": true,
         "type": "scattergl",
         "x": {
          "bdata": "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",
          "dtype": "f8"
         },
         "xaxis": "x",
         "y": {
          "bdata": "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",
          "dtype": "f8"
         },
         "yaxis": "y"
        }
       ],
       "layout": {
        "legend": {
         "title": {
          "text": "smoker"
         },
         "tracegroupgap": 0
        },
        "template": {
         "data": {
          "bar": [
           {
            "error_x": {
             "color": "#2a3f5f"
            },
            "error_y": {
             "color": "#2a3f5f"
            },
            "marker": {
             "line": {
              "color": "#E5ECF6",
              "width": 0.5
             },
             "pattern": {
              "fillmode": "overlay",
              "size": 10,
              "solidity": 0.2
             }
            },
            "type": "bar"
           }
          ],
          "barpolar": [
           {
            "marker": {
             "line": {
              "color": "#E5ECF6",
              "width": 0.5
             },
             "pattern": {
              "fillmode": "overlay",
              "size": 10,
              "solidity": 0.2
             }
            },
            "type": "barpolar"
           }
          ],
          "carpet": [
           {
            "aaxis": {
             "endlinecolor": "#2a3f5f",
             "gridcolor": "white",
             "linecolor": "white",
             "minorgridcolor": "white",
             "startlinecolor": "#2a3f5f"
            },
            "baxis": {
             "endlinecolor": "#2a3f5f",
             "gridcolor": "white",
             "linecolor": "white",
             "minorgridcolor": "white",
             "startlinecolor": "#2a3f5f"
            },
            "type": "carpet"
           }
          ],
          "choropleth": [
           {
            "colorbar": {
             "outlinewidth": 0,
             "ticks": ""
            },
            "type": "choropleth"
           }
          ],
          "contour": [
           {
            "colorbar": {
             "outlinewidth": 0,
             "ticks": ""
            },
            "colorscale": [
             [
              0,
              "#0d0887"
             ],
             [
              0.1111111111111111,
              "#46039f"
             ],
             [
              0.2222222222222222,
              "#7201a8"
             ],
             [
              0.3333333333333333,
              "#9c179e"
             ],
             [
              0.4444444444444444,
              "#bd3786"
             ],
             [
              0.5555555555555556,
              "#d8576b"
             ],
             [
              0.6666666666666666,
              "#ed7953"
             ],
             [
              0.7777777777777778,
              "#fb9f3a"
             ],
             [
              0.8888888888888888,
              "#fdca26"
             ],
             [
              1,
              "#f0f921"
             ]
            ],
            "type": "contour"
           }
          ],
          "contourcarpet": [
           {
            "colorbar": {
             "outlinewidth": 0,
             "ticks": ""
            },
            "type": "contourcarpet"
           }
          ],
          "heatmap": [
           {
            "colorbar": {
             "outlinewidth": 0,
             "ticks": ""
            },
            "colorscale": [
             [
              0,
              "#0d0887"
             ],
             [
              0.1111111111111111,
              "#46039f"
             ],
             [
              0.2222222222222222,
              "#7201a8"
             ],
             [
              0.3333333333333333,
              "#9c179e"
             ],
             [
              0.4444444444444444,
              "#bd3786"
             ],
             [
              0.5555555555555556,
              "#d8576b"
             ],
             [
              0.6666666666666666,
              "#ed7953"
             ],
             [
              0.7777777777777778,
              "#fb9f3a"
             ],
             [
              0.8888888888888888,
              "#fdca26"
             ],
             [
              1,
              "#f0f921"
             ]
            ],
            "type": "heatmap"
           }
          ],
          "histogram": [
           {
            "marker": {
             "pattern": {
              "fillmode": "overlay",
              "size": 10,
              "solidity": 0.2
             }
            },
            "type": "histogram"
           }
          ],
          "histogram2d": [
           {
            "colorbar": {
             "outlinewidth": 0,
             "ticks": ""
            },
            "colorscale": [
             [
              0,
              "#0d0887"
             ],
             [
              0.1111111111111111,
              "#46039f"
             ],
             [
              0.2222222222222222,
              "#7201a8"
             ],
             [
              0.3333333333333333,
              "#9c179e"
             ],
             [
              0.4444444444444444,
              "#bd3786"
             ],
             [
              0.5555555555555556,
              "#d8576b"
             ],
             [
              0.6666666666666666,
              "#ed7953"
             ],
             [
              0.7777777777777778,
              "#fb9f3a"
             ],
             [
              0.8888888888888888,
              "#fdca26"
             ],
             [
              1,
              "#f0f921"
             ]
            ],
            "type": "histogram2d"
           }
          ],
          "histogram2dcontour": [
           {
            "colorbar": {
             "outlinewidth": 0,
             "ticks": ""
            },
            "colorscale": [
             [
              0,
              "#0d0887"
             ],
             [
              0.1111111111111111,
              "#46039f"
             ],
             [
              0.2222222222222222,
              "#7201a8"
             ],
             [
              0.3333333333333333,
              "#9c179e"
             ],
             [
              0.4444444444444444,
              "#bd3786"
             ],
             [
              0.5555555555555556,
              "#d8576b"
             ],
             [
              0.6666666666666666,
              "#ed7953"
             ],
             [
              0.7777777777777778,
              "#fb9f3a"
             ],
             [
              0.8888888888888888,
              "#fdca26"
             ],
             [
              1,
              "#f0f921"
             ]
            ],
            "type": "histogram2dcontour"
           }
          ],
          "mesh3d": [
           {
            "colorbar": {
             "outlinewidth": 0,
             "ticks": ""
            },
            "type": "mesh3d"
           }
          ],
          "parcoords": [
           {
            "line": {
             "colorbar": {
              "outlinewidth": 0,
              "ticks": ""
             }
            },
            "type": "parcoords"
           }
          ],
          "pie": [
           {
            "automargin": true,
            "type": "pie"
           }
          ],
          "scatter": [
           {
            "fillpattern": {
             "fillmode": "overlay",
             "size": 10,
             "solidity": 0.2
            },
            "type": "scatter"
           }
          ],
          "scatter3d": [
           {
            "line": {
             "colorbar": {
              "outlinewidth": 0,
              "ticks": ""
             }
            },
            "marker": {
             "colorbar": {
              "outlinewidth": 0,
              "ticks": ""
             }
            },
            "type": "scatter3d"
           }
          ],
          "scattercarpet": [
           {
            "marker": {
             "colorbar": {
              "outlinewidth": 0,
              "ticks": ""
             }
            },
            "type": "scattercarpet"
           }
          ],
          "scattergeo": [
           {
            "marker": {
             "colorbar": {
              "outlinewidth": 0,
              "ticks": ""
             }
            },
            "type": "scattergeo"
           }
          ],
          "scattergl": [
           {
            "marker": {
             "colorbar": {
              "outlinewidth": 0,
              "ticks": ""
             }
            },
            "type": "scattergl"
           }
          ],
          "scattermap": [
           {
            "marker": {
             "colorbar": {
              "outlinewidth": 0,
              "ticks": ""
             }
            },
            "type": "scattermap"
           }
          ],
          "scattermapbox": [
           {
            "marker": {
             "colorbar": {
              "outlinewidth": 0,
              "ticks": ""
             }
            },
            "type": "scattermapbox"
           }
          ],
          "scatterpolar": [
           {
            "marker": {
             "colorbar": {
              "outlinewidth": 0,
              "ticks": ""
             }
            },
            "type": "scatterpolar"
           }
          ],
          "scatterpolargl": [
           {
            "marker": {
             "colorbar": {
              "outlinewidth": 0,
              "ticks": ""
             }
            },
            "type": "scatterpolargl"
           }
          ],
          "scatterternary": [
           {
            "marker": {
             "colorbar": {
              "outlinewidth": 0,
              "ticks": ""
             }
            },
            "type": "scatterternary"
           }
          ],
          "surface": [
           {
            "colorbar": {
             "outlinewidth": 0,
             "ticks": ""
            },
            "colorscale": [
             [
              0,
              "#0d0887"
             ],
             [
              0.1111111111111111,
              "#46039f"
             ],
             [
              0.2222222222222222,
              "#7201a8"
             ],
             [
              0.3333333333333333,
              "#9c179e"
             ],
             [
              0.4444444444444444,
              "#bd3786"
             ],
             [
              0.5555555555555556,
              "#d8576b"
             ],
             [
              0.6666666666666666,
              "#ed7953"
             ],
             [
              0.7777777777777778,
              "#fb9f3a"
             ],
             [
              0.8888888888888888,
              "#fdca26"
             ],
             [
              1,
              "#f0f921"
             ]
            ],
            "type": "surface"
           }
          ],
          "table": [
           {
            "cells": {
             "fill": {
              "color": "#EBF0F8"
             },
             "line": {
              "color": "white"
             }
            },
            "header": {
             "fill": {
              "color": "#C8D4E3"
             },
             "line": {
              "color": "white"
             }
            },
            "type": "table"
           }
          ]
         },
         "layout": {
          "annotationdefaults": {
           "arrowcolor": "#2a3f5f",
           "arrowhead": 0,
           "arrowwidth": 1
          },
          "autotypenumbers": "strict",
          "coloraxis": {
           "colorbar": {
            "outlinewidth": 0,
            "ticks": ""
           }
          },
          "colorscale": {
           "diverging": [
            [
             0,
             "#8e0152"
            ],
            [
             0.1,
             "#c51b7d"
            ],
            [
             0.2,
             "#de77ae"
            ],
            [
             0.3,
             "#f1b6da"
            ],
            [
             0.4,
             "#fde0ef"
            ],
            [
             0.5,
             "#f7f7f7"
            ],
            [
             0.6,
             "#e6f5d0"
            ],
            [
             0.7,
             "#b8e186"
            ],
            [
             0.8,
             "#7fbc41"
            ],
            [
             0.9,
             "#4d9221"
            ],
            [
             1,
             "#276419"
            ]
           ],
           "sequential": [
            [
             0,
             "#0d0887"
            ],
            [
             0.1111111111111111,
             "#46039f"
            ],
            [
             0.2222222222222222,
             "#7201a8"
            ],
            [
             0.3333333333333333,
             "#9c179e"
            ],
            [
             0.4444444444444444,
             "#bd3786"
            ],
            [
             0.5555555555555556,
             "#d8576b"
            ],
            [
             0.6666666666666666,
             "#ed7953"
            ],
            [
             0.7777777777777778,
             "#fb9f3a"
            ],
            [
             0.8888888888888888,
             "#fdca26"
            ],
            [
             1,
             "#f0f921"
            ]
           ],
           "sequentialminus": [
            [
             0,
             "#0d0887"
            ],
            [
             0.1111111111111111,
             "#46039f"
            ],
            [
             0.2222222222222222,
             "#7201a8"
            ],
            [
             0.3333333333333333,
             "#9c179e"
            ],
            [
             0.4444444444444444,
             "#bd3786"
            ],
            [
             0.5555555555555556,
             "#d8576b"
            ],
            [
             0.6666666666666666,
             "#ed7953"
            ],
            [
             0.7777777777777778,
             "#fb9f3a"
            ],
            [
             0.8888888888888888,
             "#fdca26"
            ],
            [
             1,
             "#f0f921"
            ]
           ]
          },
          "colorway": [
           "#636efa",
           "#EF553B",
           "#00cc96",
           "#ab63fa",
           "#FFA15A",
           "#19d3f3",
           "#FF6692",
           "#B6E880",
           "#FF97FF",
           "#FECB52"
          ],
          "font": {
           "color": "#2a3f5f"
          },
          "geo": {
           "bgcolor": "white",
           "lakecolor": "white",
           "landcolor": "#E5ECF6",
           "showlakes": true,
           "showland": true,
           "subunitcolor": "white"
          },
          "hoverlabel": {
           "align": "left"
          },
          "hovermode": "closest",
          "mapbox": {
           "style": "light"
          },
          "paper_bgcolor": "white",
          "plot_bgcolor": "#E5ECF6",
          "polar": {
           "angularaxis": {
            "gridcolor": "white",
            "linecolor": "white",
            "ticks": ""
           },
           "bgcolor": "#E5ECF6",
           "radialaxis": {
            "gridcolor": "white",
            "linecolor": "white",
            "ticks": ""
           }
          },
          "scene": {
           "xaxis": {
            "backgroundcolor": "#E5ECF6",
            "gridcolor": "white",
            "gridwidth": 2,
            "linecolor": "white",
            "showbackground": true,
            "ticks": "",
            "zerolinecolor": "white"
           },
           "yaxis": {
            "backgroundcolor": "#E5ECF6",
            "gridcolor": "white",
            "gridwidth": 2,
            "linecolor": "white",
            "showbackground": true,
            "ticks": "",
            "zerolinecolor": "white"
           },
           "zaxis": {
            "backgroundcolor": "#E5ECF6",
            "gridcolor": "white",
            "gridwidth": 2,
            "linecolor": "white",
            "showbackground": true,
            "ticks": "",
            "zerolinecolor": "white"
           }
          },
          "shapedefaults": {
           "line": {
            "color": "#2a3f5f"
           }
          },
          "ternary": {
           "aaxis": {
            "gridcolor": "white",
            "linecolor": "white",
            "ticks": ""
           },
           "baxis": {
            "gridcolor": "white",
            "linecolor": "white",
            "ticks": ""
           },
           "bgcolor": "#E5ECF6",
           "caxis": {
            "gridcolor": "white",
            "linecolor": "white",
            "ticks": ""
           }
          },
          "title": {
           "x": 0.05
          },
          "xaxis": {
           "automargin": true,
           "gridcolor": "white",
           "linecolor": "white",
           "ticks": "",
           "title": {
            "standoff": 15
           },
           "zerolinecolor": "white",
           "zerolinewidth": 2
          },
          "yaxis": {
           "automargin": true,
           "gridcolor": "white",
           "linecolor": "white",
           "ticks": "",
           "title": {
            "standoff": 15
           },
           "zerolinecolor": "white",
           "zerolinewidth": 2
          }
         }
        },
        "title": {
         "text": "BMI vs Insurance Charges (Interactive Plot)"
        },
        "xaxis": {
         "anchor": "y",
         "domain": [
          0,
          1
         ],
         "title": {
          "text": "bmi"
         }
        },
        "yaxis": {
         "anchor": "x",
         "domain": [
          0,
          1
         ],
         "title": {
          "text": "charges"
         }
        }
       }
      }
     },
     "metadata": {},
     "output_type": "display_data"
    }
   ],
   "source": [
    "# Create an interactive scatter plot to explore BMI and charges\n",
    "fig = px.scatter(\n",
    "    df,\n",
    "    x=\"bmi\",\n",
    "    y=\"charges\",\n",
    "    color=\"smoker\",\n",
    "    title=\"BMI vs Insurance Charges (Interactive Plot)\",\n",
    "    hover_data=[\"age\", \"region\"]\n",
    ")\n",
    "\n",
    "# Show the interactive plot\n",
    "fig.show()"
   ]
  }
 ],
 "metadata": {
  "kernelspec": {
   "display_name": "Python 3",
   "language": "python",
   "name": "python3"
  },
  "language_info": {
   "codemirror_mode": {
    "name": "ipython",
    "version": 3
   },
   "file_extension": ".py",
   "mimetype": "text/x-python",
   "name": "python",
   "nbconvert_exporter": "python",
   "pygments_lexer": "ipython3",
   "version": "3.12.8"
  }
 },
 "nbformat": 4,
 "nbformat_minor": 5
}
